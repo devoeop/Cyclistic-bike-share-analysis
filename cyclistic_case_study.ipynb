{
 "cells": [
  {
   "cell_type": "markdown",
   "id": "9fc4368f-6c14-4148-827a-5ad86abb0339",
   "metadata": {},
   "source": [
    "## Setup: library modules and helper functions"
   ]
  },
  {
   "cell_type": "code",
   "execution_count": 33,
   "id": "6e979ef9-6af4-48ca-add0-74b9274e49aa",
   "metadata": {},
   "outputs": [],
   "source": [
    "import numpy as np                        # for efficient data types\n",
    "import csv                                # to take a peek at our CSV files\n",
    "import os                                 \n",
    "import glob                               # pathnames matching\n",
    "import pandas as pd                       # data manipulation and analysis with parallelization \n",
    "import warnings                           # to get rid of markdown warnings               \n",
    "import matplotlib.pyplot as plt           # to support plotting visuals\n",
    "import seaborn as sns                     # visualization module\n",
    "from shapely.geometry import Point, Polygon\n",
    "import difflib                            # for comparing strings\n",
    "import re                                 # for pattern matching \n",
    "from datetime import datetime, timedelta  # for manipulating date and time columns\n",
    "\n",
    "# global settings\n",
    "sns.set(style=\"white\")\n",
    "%matplotlib inline\n",
    "warnings.simplefilter('ignore')\n",
    "pd.set_option('display.max_rows', 100)\n",
    "\n",
    "# functions and variables that we'll reuse \n",
    "def cols_mem_usage(*args: str) -> None:\n",
    "    \"\"\"Print dataframe column's memory usage in megabytes.\"\"\"\n",
    "    df_mem_usage = df.memory_usage(deep = True)\n",
    "    for col_name in list(args):\n",
    "        print(f\"{col_name} total memory usage: {df_mem_usage[col_name]/1_000_000}MB\")\n",
    "        \n",
    "\"\"\"\n",
    "pandas is inadvertantly converting integers into floats (i.e. 1 -> 1.0) on csv reads, so\n",
    "this is mainly to handle comparisons that should hold true like '1' == '1.0'  \n",
    "while accounting for strings without digits\n",
    "\"\"\"\n",
    "def try_int(x: str) -> str:\n",
    "    \"\"\"Attempt to convert a string into an integer, and back into a string to remove decimals.\"\"\"\n",
    "    try:\n",
    "        return str(int(x))\n",
    "    except ValueError:\n",
    "        return x\n",
    "#hiding any warnings showed by interpretor\n",
    "warnings.simplefilter(\"ignore\")"
   ]
  },
  {
   "cell_type": "markdown",
   "id": "57e788fd-6ddf-4b26-a2c4-5d06150494de",
   "metadata": {},
   "source": [
    "### Data preview\n",
    "\n",
    "Let's look at a single row in one of the csv files we've downloaded to see if we need to omit any irrelevant columns from or inquiry"
   ]
  },
  {
   "cell_type": "code",
   "execution_count": 34,
   "id": "bac673c2-f7ab-41a8-820f-60b2f2afa22b",
   "metadata": {},
   "outputs": [
    {
     "data": {
      "text/html": [
       "<div>\n",
       "<style scoped>\n",
       "    .dataframe tbody tr th:only-of-type {\n",
       "        vertical-align: middle;\n",
       "    }\n",
       "\n",
       "    .dataframe tbody tr th {\n",
       "        vertical-align: top;\n",
       "    }\n",
       "\n",
       "    .dataframe thead th {\n",
       "        text-align: right;\n",
       "    }\n",
       "</style>\n",
       "<table border=\"1\" class=\"dataframe\">\n",
       "  <thead>\n",
       "    <tr style=\"text-align: right;\">\n",
       "      <th></th>\n",
       "      <th>ride_id</th>\n",
       "      <th>rideable_type</th>\n",
       "      <th>started_at</th>\n",
       "      <th>ended_at</th>\n",
       "      <th>start_station_name</th>\n",
       "      <th>start_station_id</th>\n",
       "      <th>end_station_name</th>\n",
       "      <th>end_station_id</th>\n",
       "      <th>start_lat</th>\n",
       "      <th>start_lng</th>\n",
       "      <th>end_lat</th>\n",
       "      <th>end_lng</th>\n",
       "      <th>member_casual</th>\n",
       "      <th>ride_length</th>\n",
       "      <th>day_of_week</th>\n",
       "    </tr>\n",
       "  </thead>\n",
       "  <tbody>\n",
       "    <tr>\n",
       "      <th>0</th>\n",
       "      <td>70B6A9A437D4C30D</td>\n",
       "      <td>classic_bike</td>\n",
       "      <td>27-12-2020 12:44</td>\n",
       "      <td>27-12-2020 12:55</td>\n",
       "      <td>Aberdeen St &amp; Jackson Blvd</td>\n",
       "      <td>13157</td>\n",
       "      <td>Desplaines St &amp; Kinzie St</td>\n",
       "      <td>TA1306000003</td>\n",
       "      <td>41.87772613</td>\n",
       "      <td>-87.65478743</td>\n",
       "      <td>41.88871604</td>\n",
       "      <td>-87.64444785</td>\n",
       "      <td>member</td>\n",
       "      <td>00:10:37</td>\n",
       "      <td>1</td>\n",
       "    </tr>\n",
       "  </tbody>\n",
       "</table>\n",
       "</div>"
      ],
      "text/plain": [
       "            ride_id rideable_type        started_at          ended_at  \\\n",
       "0  70B6A9A437D4C30D  classic_bike  27-12-2020 12:44  27-12-2020 12:55   \n",
       "\n",
       "           start_station_name start_station_id           end_station_name  \\\n",
       "0  Aberdeen St & Jackson Blvd            13157  Desplaines St & Kinzie St   \n",
       "\n",
       "  end_station_id    start_lat     start_lng      end_lat       end_lng  \\\n",
       "0   TA1306000003  41.87772613  -87.65478743  41.88871604  -87.64444785   \n",
       "\n",
       "  member_casual ride_length day_of_week  \n",
       "0        member    00:10:37           1  "
      ]
     },
     "execution_count": 34,
     "metadata": {},
     "output_type": "execute_result"
    }
   ],
   "source": [
    "def get_csv_peek(fp: str) -> pd.DataFrame:   \n",
    "    \"\"\"Look at csv's first record as a dataframe\"\"\"\n",
    "    with open(fp) as csvfile:\n",
    "        reader = csv.reader(csvfile)\n",
    "        column_headers = next(reader) \n",
    "        first_row = next(reader)\n",
    "        return pd.DataFrame(data = [first_row], columns = column_headers)\n",
    "\n",
    "get_csv_peek(r\"F:\\Coursera\\Projects\\Cyclistic_case_study\\Trip Data\\csv_files\\202012-divvy-tripdata.csv\")"
   ]
  },
  {
   "cell_type": "markdown",
   "id": "06fb5119-f5ab-4d32-b52b-d8d8244101dc",
   "metadata": {},
   "source": [
    "### Checking Dataset size"
   ]
  },
  {
   "cell_type": "code",
   "execution_count": 35,
   "id": "0dcb7feb-5071-4825-8b26-c5d71272f4b3",
   "metadata": {},
   "outputs": [
    {
     "name": "stdout",
     "output_type": "stream",
     "text": [
      "Total dataset size: 1018.79 Megabytes\n"
     ]
    }
   ],
   "source": [
    "def get_files_total_size() -> float:\n",
    "    \"\"\"Find the total dataset size by summing each individual file's size\"\"\"\n",
    "    data_folder_path = \"F:\\Coursera\\Projects\\Cyclistic_case_study\\Trip Data\\csv_files\\\\\"\n",
    "    files = list(os.listdir(data_folder_path))\n",
    "    total_size = 0\n",
    "    for f in files:\n",
    "        total_size += os.stat(data_folder_path + f).st_size\n",
    "    \n",
    "    return round(total_size/1_000_000, 2)\n",
    "\n",
    "print(f\"Total dataset size: {get_files_total_size()} Megabytes\")"
   ]
  },
  {
   "cell_type": "markdown",
   "id": "98fab833-fb2f-4ba7-8219-6653bb5d36c7",
   "metadata": {},
   "source": [
    "## Processing Scope\n",
    "\n",
    "* Research and apply the right data manipulation tools for processing and analysis\n",
    "* Check for dirty data - for data that is outdated, duplicated, incomplete, inconsistent and/or inaccurate/incorrect\n",
    "* Transform and clean the data to a point where it can be worked with effectively in analysis\n",
    "\n",
    "## Choosing the right tools for the job\n",
    "\n",
    "Given the scale size of the merged dataset, we will be utilizing Python 3.0 with several library modules that are necessary for data manipulation and visualization. We will primarily be relying on the Pandas software library for its efficient use of data structures and operations. In case we run into any performance issues, we will take advantage of a cloud cluster querying solution like DB2."
   ]
  },
  {
   "cell_type": "markdown",
   "id": "611b5a6b-8861-4a20-8ce7-6c2261961a85",
   "metadata": {},
   "source": [
    "## Checking for dirty data"
   ]
  },
  {
   "cell_type": "markdown",
   "id": "6602d374-54f4-4669-960c-5085f4e4e4b9",
   "metadata": {},
   "source": [
    "### Merging our dataset into a single dataframe"
   ]
  },
  {
   "cell_type": "code",
   "execution_count": 36,
   "id": "b9bfe9e8-e58d-4456-8a34-ab8785fabf48",
   "metadata": {},
   "outputs": [],
   "source": [
    "def get_merged_df(data_folder_path: str) -> pd.DataFrame:\n",
    "    \"\"\"Merge data files into a single dataframe.\"\"\"\n",
    "    files = list(os.listdir(data_folder_path))\n",
    "    file_paths = [data_folder_path + f for f in files]\n",
    "    #load all files\n",
    "    df_per_file = (pd.read_csv(fp, \n",
    "                               low_memory = False, \n",
    "                               parse_dates = ['started_at', 'ended_at'],\n",
    "                               infer_datetime_format = True,\n",
    "                               memory_map = True)\n",
    "                  for fp in file_paths)\n",
    "    return pd.concat(df_per_file, ignore_index = True)\n",
    "\n",
    "df = get_merged_df(\"F:\\Coursera\\Projects\\Cyclistic_case_study\\Trip Data\\csv_files\\\\\")"
   ]
  },
  {
   "cell_type": "code",
   "execution_count": 37,
   "id": "deac919d-cf09-4607-b778-59e98d9830cf",
   "metadata": {},
   "outputs": [],
   "source": [
    "df['ride_length'] = (df['ended_at'] - df['started_at'])/np.timedelta64(1, 'm') # turn it into minutes"
   ]
  },
  {
   "cell_type": "markdown",
   "id": "860ab8a9-e213-44a5-a85c-134b6ec0b271",
   "metadata": {},
   "source": [
    "### Examining our meta data\n",
    "\n",
    "Let's get a sense of our main dataset by looking at the memory usage, formatting and descriptive statistics of each of our fields, among other things. We do this to validate our data before diving into data processing. "
   ]
  },
  {
   "cell_type": "code",
   "execution_count": 38,
   "id": "4a349f20-6f40-4fb9-9a99-f4119e0d0eaa",
   "metadata": {},
   "outputs": [
    {
     "name": "stdout",
     "output_type": "stream",
     "text": [
      "<class 'pandas.core.frame.DataFrame'>\n",
      "RangeIndex: 5479096 entries, 0 to 5479095\n",
      "Data columns (total 15 columns):\n",
      " #   Column              Dtype         \n",
      "---  ------              -----         \n",
      " 0   ride_id             object        \n",
      " 1   rideable_type       object        \n",
      " 2   started_at          datetime64[ns]\n",
      " 3   ended_at            datetime64[ns]\n",
      " 4   start_station_name  object        \n",
      " 5   start_station_id    object        \n",
      " 6   end_station_name    object        \n",
      " 7   end_station_id      object        \n",
      " 8   start_lat           float64       \n",
      " 9   start_lng           float64       \n",
      " 10  end_lat             float64       \n",
      " 11  end_lng             float64       \n",
      " 12  member_casual       object        \n",
      " 13  ride_length         float64       \n",
      " 14  day_of_week         int64         \n",
      "dtypes: datetime64[ns](2), float64(5), int64(1), object(7)\n",
      "memory usage: 2.8 GB\n"
     ]
    }
   ],
   "source": [
    "# get information from our dataframe (number of records, memory use and data types)\n",
    "df.info(memory_usage = 'deep')"
   ]
  },
  {
   "cell_type": "code",
   "execution_count": 39,
   "id": "45262455-b6ff-46fe-bbce-6b7b971874c6",
   "metadata": {},
   "outputs": [
    {
     "data": {
      "text/html": [
       "<div>\n",
       "<style scoped>\n",
       "    .dataframe tbody tr th:only-of-type {\n",
       "        vertical-align: middle;\n",
       "    }\n",
       "\n",
       "    .dataframe tbody tr th {\n",
       "        vertical-align: top;\n",
       "    }\n",
       "\n",
       "    .dataframe thead th {\n",
       "        text-align: right;\n",
       "    }\n",
       "</style>\n",
       "<table border=\"1\" class=\"dataframe\">\n",
       "  <thead>\n",
       "    <tr style=\"text-align: right;\">\n",
       "      <th></th>\n",
       "      <th>start_lat</th>\n",
       "      <th>start_lng</th>\n",
       "      <th>end_lat</th>\n",
       "      <th>end_lng</th>\n",
       "      <th>ride_length</th>\n",
       "      <th>day_of_week</th>\n",
       "    </tr>\n",
       "  </thead>\n",
       "  <tbody>\n",
       "    <tr>\n",
       "      <th>count</th>\n",
       "      <td>5479096.0000</td>\n",
       "      <td>5479096.0000</td>\n",
       "      <td>5474358.0000</td>\n",
       "      <td>5474358.0000</td>\n",
       "      <td>5479096.0000</td>\n",
       "      <td>5479096.0000</td>\n",
       "    </tr>\n",
       "    <tr>\n",
       "      <th>mean</th>\n",
       "      <td>41.9013</td>\n",
       "      <td>-87.6459</td>\n",
       "      <td>41.9016</td>\n",
       "      <td>-87.6461</td>\n",
       "      <td>20.2720</td>\n",
       "      <td>4.0997</td>\n",
       "    </tr>\n",
       "    <tr>\n",
       "      <th>std</th>\n",
       "      <td>0.0459</td>\n",
       "      <td>0.0284</td>\n",
       "      <td>0.0460</td>\n",
       "      <td>0.0286</td>\n",
       "      <td>4088.5168</td>\n",
       "      <td>2.0811</td>\n",
       "    </tr>\n",
       "    <tr>\n",
       "      <th>min</th>\n",
       "      <td>41.6400</td>\n",
       "      <td>-87.8400</td>\n",
       "      <td>41.3900</td>\n",
       "      <td>-88.9700</td>\n",
       "      <td>-421899.0000</td>\n",
       "      <td>1.0000</td>\n",
       "    </tr>\n",
       "    <tr>\n",
       "      <th>25%</th>\n",
       "      <td>41.8817</td>\n",
       "      <td>-87.6600</td>\n",
       "      <td>41.8819</td>\n",
       "      <td>-87.6600</td>\n",
       "      <td>7.0000</td>\n",
       "      <td>2.0000</td>\n",
       "    </tr>\n",
       "    <tr>\n",
       "      <th>50%</th>\n",
       "      <td>41.8990</td>\n",
       "      <td>-87.6418</td>\n",
       "      <td>41.8999</td>\n",
       "      <td>-87.6427</td>\n",
       "      <td>12.0000</td>\n",
       "      <td>4.0000</td>\n",
       "    </tr>\n",
       "    <tr>\n",
       "      <th>75%</th>\n",
       "      <td>41.9291</td>\n",
       "      <td>-87.6277</td>\n",
       "      <td>41.9295</td>\n",
       "      <td>-87.6278</td>\n",
       "      <td>22.0000</td>\n",
       "      <td>6.0000</td>\n",
       "    </tr>\n",
       "    <tr>\n",
       "      <th>max</th>\n",
       "      <td>42.0700</td>\n",
       "      <td>-87.5200</td>\n",
       "      <td>42.1681</td>\n",
       "      <td>-87.4900</td>\n",
       "      <td>436887.0000</td>\n",
       "      <td>7.0000</td>\n",
       "    </tr>\n",
       "  </tbody>\n",
       "</table>\n",
       "</div>"
      ],
      "text/plain": [
       "          start_lat     start_lng       end_lat       end_lng   ride_length  \\\n",
       "count  5479096.0000  5479096.0000  5474358.0000  5474358.0000  5479096.0000   \n",
       "mean        41.9013      -87.6459       41.9016      -87.6461       20.2720   \n",
       "std          0.0459        0.0284        0.0460        0.0286     4088.5168   \n",
       "min         41.6400      -87.8400       41.3900      -88.9700  -421899.0000   \n",
       "25%         41.8817      -87.6600       41.8819      -87.6600        7.0000   \n",
       "50%         41.8990      -87.6418       41.8999      -87.6427       12.0000   \n",
       "75%         41.9291      -87.6277       41.9295      -87.6278       22.0000   \n",
       "max         42.0700      -87.5200       42.1681      -87.4900   436887.0000   \n",
       "\n",
       "        day_of_week  \n",
       "count  5479096.0000  \n",
       "mean         4.0997  \n",
       "std          2.0811  \n",
       "min          1.0000  \n",
       "25%          2.0000  \n",
       "50%          4.0000  \n",
       "75%          6.0000  \n",
       "max          7.0000  "
      ]
     },
     "execution_count": 39,
     "metadata": {},
     "output_type": "execute_result"
    }
   ],
   "source": [
    "df.describe().apply(lambda s: s.apply('{0:.4f}'.format))"
   ]
  },
  {
   "cell_type": "markdown",
   "id": "5378cf23-7f0b-4b9a-b982-f3204b1a50d5",
   "metadata": {},
   "source": [
    "### Checking for duplicate values\n",
    "\n",
    "Let's now look at the number of unique values under each field"
   ]
  },
  {
   "cell_type": "code",
   "execution_count": 40,
   "id": "d1476873-5576-4406-afb9-551b6154922c",
   "metadata": {},
   "outputs": [
    {
     "name": "stdout",
     "output_type": "stream",
     "text": [
      "Unique values per column\n",
      "ride_id: 5479084\n",
      "rideable_type: 3\n",
      "started_at: 410046\n",
      "ended_at: 411037\n",
      "start_station_name: 845\n",
      "start_station_id: 830\n",
      "end_station_name: 839\n",
      "end_station_id: 825\n",
      "start_lat: 377723\n",
      "start_lng: 358168\n",
      "end_lat: 443631\n",
      "end_lng: 403731\n",
      "member_casual: 2\n",
      "ride_length: 4541\n",
      "day_of_week: 7\n"
     ]
    }
   ],
   "source": [
    "# checking the number of unique values per column\n",
    "print(\"Unique values per column\")\n",
    "for col in df.columns:\n",
    "    print(f'{col}: {df[col].nunique()}')"
   ]
  },
  {
   "cell_type": "markdown",
   "id": "c2788b56-2f20-4ae3-821b-740228aec410",
   "metadata": {},
   "source": [
    "- rideable_type and member_casual could benefit from a more efficient data type since they both have a limited number of unique values\n",
    "- ride_id, presumably the intended primary key of this table, clearly has duplicates since the number of unique values does not conform to the dataframe's size.\n",
    "- there are more station ids than there are station names, which means that many station names are linked to multiple IDs\n",
    "\n",
    "### Checking for entity participation constraints\n",
    "\n",
    "Let's check if IDs can also associate with more than one station name."
   ]
  },
  {
   "cell_type": "code",
   "execution_count": 41,
   "id": "7eaf9822-3049-43e2-b99c-f908b04aa182",
   "metadata": {},
   "outputs": [
    {
     "name": "stdout",
     "output_type": "stream",
     "text": [
      "Number of station IDs with more than one name associated with it: 62\n"
     ]
    },
    {
     "data": {
      "text/plain": [
       "id     station_name                                       \n",
       "13074  Broadway & Wilson - Truman College Vaccination Site     9222\n",
       "       Broadway & Wilson Ave                                    430\n",
       "13099  Halsted St & 18th St                                    1646\n",
       "       Halsted St & 18th St (Temp)                             1730\n",
       "13300  DuSable Lake Shore Dr & Monroe St                      19846\n",
       "       Lake Shore Dr & Monroe St                              25757\n",
       "dtype: int64"
      ]
     },
     "execution_count": 41,
     "metadata": {},
     "output_type": "execute_result"
    }
   ],
   "source": [
    "\"\"\"Get a pandas series of stations sharing the same ID and their value counts\"\"\"\n",
    "start_ids_sr = df.groupby(['start_station_id','start_station_name']).size().rename_axis(index={'start_station_id': 'id', 'start_station_name': 'station_name'})\n",
    "end_ids_sr = df.groupby(['end_station_id','end_station_name']).size().rename_axis(index={'end_station_id': 'id', 'end_station_name': 'station_name'})\n",
    "\n",
    "vc1 = start_ids_sr.reset_index()['id'].value_counts()\n",
    "vc2 = end_ids_sr.reset_index()['id'].value_counts()\n",
    "\n",
    "start_ids_with_many_names = vc1[vc1 > 1].index\n",
    "end_ids_with_many_names = vc2[vc2 > 1].index\n",
    "\n",
    "start_mask = start_ids_sr.index.get_level_values(0).isin(start_ids_with_many_names)\n",
    "start_ids_sr[start_mask]\n",
    "end_mask = end_ids_sr.index.get_level_values(0).isin(end_ids_with_many_names)\n",
    "end_ids_sr[end_mask]\n",
    "\n",
    "inconsistent_ids_series = pd.concat([start_ids_sr[start_mask], end_ids_sr[end_mask]], axis = 0)\n",
    "print(\"Number of station IDs with more than one name associated with it:\", len(inconsistent_ids_series))\n",
    "inconsistent_ids_series.head(6)"
   ]
  },
  {
   "cell_type": "markdown",
   "id": "65ed4e24-6cf5-4b5d-92c5-76fa3be16f3c",
   "metadata": {},
   "source": [
    "Looks like IDs can can link to several station names due to the time series nature of our data set and the evolution of station names and locations from events like relocations, renovations and renamings. Based on the fact that there are no IDs with more than two station names, we'll assume that these instances are valid. We'll keep it in mind for later in case it affects our analysis in some way. "
   ]
  },
  {
   "cell_type": "markdown",
   "id": "e8d0905c-4786-4e25-b664-1817a45e1f87",
   "metadata": {},
   "source": [
    "## Transforming and cleaning the data\n",
    "\n",
    "### Resolving duplicate data"
   ]
  },
  {
   "cell_type": "code",
   "execution_count": 42,
   "id": "c221ac55-44b3-48d5-a5b0-f590ce1dafa1",
   "metadata": {},
   "outputs": [
    {
     "name": "stdout",
     "output_type": "stream",
     "text": [
      "Number of rows with negative ride durations: 1572\n"
     ]
    }
   ],
   "source": [
    "mask = (df['ended_at'] - df['started_at']) < pd.Timedelta(\"0 days\")\n",
    "print(\"Number of rows with negative ride durations:\", len(df.loc[mask]))"
   ]
  },
  {
   "cell_type": "markdown",
   "id": "19b536ab-05c8-42ab-84a5-dca04d8f5ff5",
   "metadata": {},
   "source": [
    "Now we will remove the rows with negative ride durations"
   ]
  },
  {
   "cell_type": "code",
   "execution_count": 43,
   "id": "bd8db295-183d-494b-bc47-9fec83f6ca8d",
   "metadata": {},
   "outputs": [],
   "source": [
    "df = df.loc[~mask]"
   ]
  },
  {
   "cell_type": "markdown",
   "id": "fbfae0e6-bc91-4db3-ab66-2c3314563e02",
   "metadata": {},
   "source": [
    "### Formatting adjustment: converting rideable_type and member_casual"
   ]
  },
  {
   "cell_type": "code",
   "execution_count": 44,
   "id": "12f21a4e-64f7-49fc-af4a-71404836fc6c",
   "metadata": {},
   "outputs": [],
   "source": [
    "# let's convert these low unique count columns into categories\n",
    "df['rideable_type'] = df['rideable_type'].astype('category')\n",
    "df['member_casual'] = df['member_casual'].astype('category')"
   ]
  },
  {
   "cell_type": "markdown",
   "id": "1d7fa11a-a75f-47e4-8056-5d0ea327f692",
   "metadata": {},
   "source": [
    "### Cleaning station ids \n",
    "We'll convert each station id into their integer equivalent\n",
    "\n",
    "Let's see how many station ids contain characters"
   ]
  },
  {
   "cell_type": "code",
   "execution_count": 45,
   "id": "51c2b697-50f5-4a2e-8056-b92733536cc5",
   "metadata": {},
   "outputs": [
    {
     "name": "stdout",
     "output_type": "stream",
     "text": [
      "unique values with characters in start_station_id: 303\n",
      "unique values with characters in end_station_id: 303\n"
     ]
    }
   ],
   "source": [
    "# checking the number of non digit values in start_station_id and end_station_id\n",
    "mask = (df['start_station_id'].astype(str).str.contains(pat = '[^0-9.]', regex = True)) & (df['start_station_id'].notnull())\n",
    "print(f\"unique values with characters in start_station_id: {df.loc[mask, 'start_station_id'].nunique()}\")\n",
    "\n",
    "mask = (df['end_station_id'].astype(str).str.contains(pat = '[^0-9.]', regex = True)) & (df['end_station_id'].notnull())\n",
    "print(f\"unique values with characters in end_station_id: {df.loc[mask, 'end_station_id'].nunique()}\")"
   ]
  },
  {
   "cell_type": "markdown",
   "id": "3d5b4147-dac1-4705-be62-5768f82e7874",
   "metadata": {},
   "source": [
    "We'll group stations by their ids and check to see which stations are connected to more than one ID."
   ]
  },
  {
   "cell_type": "code",
   "execution_count": 46,
   "id": "2016b0d5-67f6-4c27-8f31-4fc589762179",
   "metadata": {},
   "outputs": [
    {
     "name": "stdout",
     "output_type": "stream",
     "text": [
      "Number of inconsistent stations with more than one id: 1\n",
      "Index(['Names of the inconsistent stations: Loomis St & 89th St'], dtype='object')\n"
     ]
    }
   ],
   "source": [
    "def get_inconsistent_stations_index() -> pd.Index:\n",
    "    \"\"\"Get a pandas index of stations IDs (start and end) that share multiple names\"\"\"\n",
    "    start_station_ids_df = df.groupby(['start_station_name', 'start_station_id']).size()\n",
    "    end_station_ids_df = df.groupby(['end_station_name', 'end_station_id']).size()\n",
    "    vc1 = start_station_ids_df.reset_index()['start_station_name'].value_counts()\n",
    "    vc2 = end_station_ids_df.reset_index()['end_station_name'].value_counts()\n",
    "    starts = vc1[vc1 > 1].index\n",
    "    ends = vc2[vc2 > 1].index\n",
    "    return starts.union(ends)\n",
    "\n",
    "inconsistent_stations = get_inconsistent_stations_index()\n",
    "\n",
    "print(\"Number of inconsistent stations with more than one id:\",len(inconsistent_stations))\n",
    "print('Names of the inconsistent stations: '+inconsistent_stations)"
   ]
  },
  {
   "cell_type": "markdown",
   "id": "3c3334e9-7bd7-4a98-8037-3e899a294868",
   "metadata": {},
   "source": [
    "We'll remove any rows that contain 'Loomis St & 89th St' as either a start or end point for accuracy of the analysis assuming it will not affect the stats significantly"
   ]
  },
  {
   "cell_type": "code",
   "execution_count": 47,
   "id": "6a7489d0-bfe3-4c15-86f2-c09e7fba2e71",
   "metadata": {},
   "outputs": [],
   "source": [
    "mask = (df['start_station_name'] == 'Loomis St & 89th St') | (df['end_station_name'] == 'Loomis St & 89th St')\n",
    "df = df.loc[~mask]"
   ]
  },
  {
   "cell_type": "code",
   "execution_count": 48,
   "id": "00def679-96cd-4bdf-af18-f012d88a2eff",
   "metadata": {},
   "outputs": [
    {
     "name": "stdout",
     "output_type": "stream",
     "text": [
      "Number of inconsistent stations with more than one id: 0\n"
     ]
    }
   ],
   "source": [
    "inconsistent_stations = get_inconsistent_stations_index()\n",
    "print(\"Number of inconsistent stations with more than one id:\",len(inconsistent_stations))"
   ]
  },
  {
   "cell_type": "markdown",
   "id": "6a56feb8-dfae-4764-bef0-03d681296ca5",
   "metadata": {},
   "source": [
    "All stations now have a single linked station ID"
   ]
  },
  {
   "cell_type": "code",
   "execution_count": 49,
   "id": "4d4a3e91-5bb9-4531-9039-62686c68c22b",
   "metadata": {},
   "outputs": [
    {
     "data": {
      "text/plain": [
       "ride_id                    0\n",
       "rideable_type              0\n",
       "started_at                 0\n",
       "ended_at                   0\n",
       "start_station_name    651270\n",
       "start_station_id      651267\n",
       "end_station_name      698583\n",
       "end_station_id        698583\n",
       "start_lat                  0\n",
       "start_lng                  0\n",
       "end_lat                 4672\n",
       "end_lng                 4672\n",
       "member_casual              0\n",
       "ride_length                0\n",
       "day_of_week                0\n",
       "dtype: int64"
      ]
     },
     "execution_count": 49,
     "metadata": {},
     "output_type": "execute_result"
    }
   ],
   "source": [
    "df.isna().sum()"
   ]
  },
  {
   "cell_type": "markdown",
   "id": "d3be932f-f8a7-4a61-9ff8-6e0731ee521d",
   "metadata": {},
   "source": [
    "Let's just drop rows that have any missing station names or station ids since we don't have any external data to treat these missing values"
   ]
  },
  {
   "cell_type": "code",
   "execution_count": 50,
   "id": "d67ec01f-d437-436b-887a-947cb2016eec",
   "metadata": {},
   "outputs": [],
   "source": [
    "mask = (df['start_station_name'].isna()) | (df['start_station_id'].isna())\n",
    "df = df.loc[~mask]\n",
    "mask = (df['end_station_name'].isna()) | (df['end_station_id'].isna())\n",
    "df = df.loc[~mask]"
   ]
  },
  {
   "cell_type": "markdown",
   "id": "02ec91e3-8021-464d-b18e-b64df47bba2a",
   "metadata": {},
   "source": [
    "##### Adding a distance column which will store the great circle distance between start and end station "
   ]
  },
  {
   "cell_type": "code",
   "execution_count": 51,
   "id": "28e8f7ce-38e1-4bf5-a34f-b072a83a3091",
   "metadata": {},
   "outputs": [],
   "source": [
    "def haversine(lat1, lon1, lat2, lon2):\n",
    "    \"\"\"\n",
    "    haversine formula determining the great-circle distance between two points on a sphere in miles\n",
    "    \"\"\"\n",
    "    lat1, lon1, lat2, lon2 = np.radians([lat1, lon1, lat2, lon2])\n",
    "\n",
    "    a = np.sin((lat2-lat1)/2.0)**2 + \\\n",
    "        np.cos(lat1) * np.cos(lat2) * np.sin((lon2-lon1)/2.0)**2\n",
    "\n",
    "    return 3956 * 2 * np.arcsin(np.sqrt(a))\n",
    "\n",
    "df['distance'] = haversine(df['start_lat'],df['start_lng'],df['end_lat'],df['end_lng'])"
   ]
  },
  {
   "cell_type": "markdown",
   "id": "fe3e69ea-fc49-404a-acb5-c6f081984571",
   "metadata": {},
   "source": [
    "And output our dataframe to a csv file for further analysis in tableau"
   ]
  },
  {
   "cell_type": "markdown",
   "id": "640da68f-478b-40dd-be8e-1710f3e28d7b",
   "metadata": {},
   "source": [
    "Deleting columns which we don't need to save space"
   ]
  },
  {
   "cell_type": "code",
   "execution_count": 52,
   "id": "8a58b2d8-beef-4891-bb56-01aefb9e47f1",
   "metadata": {},
   "outputs": [
    {
     "data": {
      "text/html": [
       "<div>\n",
       "<style scoped>\n",
       "    .dataframe tbody tr th:only-of-type {\n",
       "        vertical-align: middle;\n",
       "    }\n",
       "\n",
       "    .dataframe tbody tr th {\n",
       "        vertical-align: top;\n",
       "    }\n",
       "\n",
       "    .dataframe thead th {\n",
       "        text-align: right;\n",
       "    }\n",
       "</style>\n",
       "<table border=\"1\" class=\"dataframe\">\n",
       "  <thead>\n",
       "    <tr style=\"text-align: right;\">\n",
       "      <th></th>\n",
       "      <th>ride_id</th>\n",
       "      <th>rideable_type</th>\n",
       "      <th>started_at</th>\n",
       "      <th>ended_at</th>\n",
       "      <th>start_station_name</th>\n",
       "      <th>end_station_name</th>\n",
       "      <th>start_lat</th>\n",
       "      <th>start_lng</th>\n",
       "      <th>end_lat</th>\n",
       "      <th>end_lng</th>\n",
       "      <th>member_casual</th>\n",
       "      <th>ride_length</th>\n",
       "      <th>day_of_week</th>\n",
       "      <th>distance</th>\n",
       "    </tr>\n",
       "  </thead>\n",
       "  <tbody>\n",
       "    <tr>\n",
       "      <th>0</th>\n",
       "      <td>70B6A9A437D4C30D</td>\n",
       "      <td>classic_bike</td>\n",
       "      <td>2020-12-27 12:44:00</td>\n",
       "      <td>2020-12-27 12:55:00</td>\n",
       "      <td>Aberdeen St &amp; Jackson Blvd</td>\n",
       "      <td>Desplaines St &amp; Kinzie St</td>\n",
       "      <td>41.877726</td>\n",
       "      <td>-87.654787</td>\n",
       "      <td>41.888716</td>\n",
       "      <td>-87.644448</td>\n",
       "      <td>member</td>\n",
       "      <td>11.0</td>\n",
       "      <td>1</td>\n",
       "      <td>0.926431</td>\n",
       "    </tr>\n",
       "    <tr>\n",
       "      <th>39</th>\n",
       "      <td>15F369FDAED4E8E3</td>\n",
       "      <td>electric_bike</td>\n",
       "      <td>2020-12-18 13:53:00</td>\n",
       "      <td>2020-12-18 14:01:00</td>\n",
       "      <td>Larrabee St &amp; Armitage Ave</td>\n",
       "      <td>Wells St &amp; Walton St</td>\n",
       "      <td>41.918112</td>\n",
       "      <td>-87.643799</td>\n",
       "      <td>41.900129</td>\n",
       "      <td>-87.634448</td>\n",
       "      <td>member</td>\n",
       "      <td>8.0</td>\n",
       "      <td>6</td>\n",
       "      <td>1.331365</td>\n",
       "    </tr>\n",
       "    <tr>\n",
       "      <th>50</th>\n",
       "      <td>0CFD61DFE00E6043</td>\n",
       "      <td>electric_bike</td>\n",
       "      <td>2020-12-28 17:10:00</td>\n",
       "      <td>2020-12-28 17:12:00</td>\n",
       "      <td>Kingsbury St &amp; Kinzie St</td>\n",
       "      <td>Desplaines St &amp; Kinzie St</td>\n",
       "      <td>41.889193</td>\n",
       "      <td>-87.638576</td>\n",
       "      <td>41.889099</td>\n",
       "      <td>-87.642479</td>\n",
       "      <td>member</td>\n",
       "      <td>2.0</td>\n",
       "      <td>2</td>\n",
       "      <td>0.200711</td>\n",
       "    </tr>\n",
       "    <tr>\n",
       "      <th>87</th>\n",
       "      <td>244CB936487039B7</td>\n",
       "      <td>docked_bike</td>\n",
       "      <td>2020-12-10 13:36:00</td>\n",
       "      <td>2020-12-10 14:37:00</td>\n",
       "      <td>Clark St &amp; Leland Ave</td>\n",
       "      <td>Clark St &amp; Leland Ave</td>\n",
       "      <td>41.967096</td>\n",
       "      <td>-87.667429</td>\n",
       "      <td>41.967096</td>\n",
       "      <td>-87.667429</td>\n",
       "      <td>casual</td>\n",
       "      <td>61.0</td>\n",
       "      <td>5</td>\n",
       "      <td>0.000000</td>\n",
       "    </tr>\n",
       "    <tr>\n",
       "      <th>88</th>\n",
       "      <td>B7AD5038F79637F9</td>\n",
       "      <td>classic_bike</td>\n",
       "      <td>2020-12-20 13:09:00</td>\n",
       "      <td>2020-12-20 13:15:00</td>\n",
       "      <td>Dearborn St &amp; Monroe St</td>\n",
       "      <td>Kingsbury St &amp; Kinzie St</td>\n",
       "      <td>41.881320</td>\n",
       "      <td>-87.629521</td>\n",
       "      <td>41.889177</td>\n",
       "      <td>-87.638506</td>\n",
       "      <td>member</td>\n",
       "      <td>6.0</td>\n",
       "      <td>1</td>\n",
       "      <td>0.712459</td>\n",
       "    </tr>\n",
       "    <tr>\n",
       "      <th>...</th>\n",
       "      <td>...</td>\n",
       "      <td>...</td>\n",
       "      <td>...</td>\n",
       "      <td>...</td>\n",
       "      <td>...</td>\n",
       "      <td>...</td>\n",
       "      <td>...</td>\n",
       "      <td>...</td>\n",
       "      <td>...</td>\n",
       "      <td>...</td>\n",
       "      <td>...</td>\n",
       "      <td>...</td>\n",
       "      <td>...</td>\n",
       "      <td>...</td>\n",
       "    </tr>\n",
       "    <tr>\n",
       "      <th>5479074</th>\n",
       "      <td>03F06D61B2215C92</td>\n",
       "      <td>electric_bike</td>\n",
       "      <td>2021-11-02 13:50:00</td>\n",
       "      <td>2021-11-02 13:55:00</td>\n",
       "      <td>Green St &amp; Randolph St</td>\n",
       "      <td>Kingsbury St &amp; Kinzie St</td>\n",
       "      <td>41.883510</td>\n",
       "      <td>-87.648568</td>\n",
       "      <td>41.889181</td>\n",
       "      <td>-87.638859</td>\n",
       "      <td>member</td>\n",
       "      <td>5.0</td>\n",
       "      <td>3</td>\n",
       "      <td>0.634306</td>\n",
       "    </tr>\n",
       "    <tr>\n",
       "      <th>5479079</th>\n",
       "      <td>B102144E454381D4</td>\n",
       "      <td>classic_bike</td>\n",
       "      <td>2021-11-03 17:28:00</td>\n",
       "      <td>2021-11-03 17:45:00</td>\n",
       "      <td>Elston Ave &amp; Cortland St</td>\n",
       "      <td>Wells St &amp; Walton St</td>\n",
       "      <td>41.916433</td>\n",
       "      <td>-87.666746</td>\n",
       "      <td>41.899930</td>\n",
       "      <td>-87.634430</td>\n",
       "      <td>casual</td>\n",
       "      <td>17.0</td>\n",
       "      <td>4</td>\n",
       "      <td>2.013921</td>\n",
       "    </tr>\n",
       "    <tr>\n",
       "      <th>5479082</th>\n",
       "      <td>29EB49CAC5219D45</td>\n",
       "      <td>docked_bike</td>\n",
       "      <td>2021-11-07 11:55:00</td>\n",
       "      <td>2021-11-07 12:05:00</td>\n",
       "      <td>Desplaines St &amp; Randolph St</td>\n",
       "      <td>Aberdeen St &amp; Jackson Blvd</td>\n",
       "      <td>41.884616</td>\n",
       "      <td>-87.644571</td>\n",
       "      <td>41.877726</td>\n",
       "      <td>-87.654787</td>\n",
       "      <td>casual</td>\n",
       "      <td>10.0</td>\n",
       "      <td>1</td>\n",
       "      <td>0.708598</td>\n",
       "    </tr>\n",
       "    <tr>\n",
       "      <th>5479084</th>\n",
       "      <td>F4B91264B3D8FA9F</td>\n",
       "      <td>electric_bike</td>\n",
       "      <td>2021-11-22 18:03:00</td>\n",
       "      <td>2021-11-22 18:06:00</td>\n",
       "      <td>Ogden Ave &amp; Chicago Ave</td>\n",
       "      <td>Desplaines St &amp; Kinzie St</td>\n",
       "      <td>41.896442</td>\n",
       "      <td>-87.653998</td>\n",
       "      <td>41.888691</td>\n",
       "      <td>-87.644465</td>\n",
       "      <td>member</td>\n",
       "      <td>3.0</td>\n",
       "      <td>2</td>\n",
       "      <td>0.725578</td>\n",
       "    </tr>\n",
       "    <tr>\n",
       "      <th>5479085</th>\n",
       "      <td>531611D40E3A17ED</td>\n",
       "      <td>electric_bike</td>\n",
       "      <td>2021-11-23 12:41:00</td>\n",
       "      <td>2021-11-23 12:45:00</td>\n",
       "      <td>Ogden Ave &amp; Chicago Ave</td>\n",
       "      <td>Desplaines St &amp; Kinzie St</td>\n",
       "      <td>41.896366</td>\n",
       "      <td>-87.654123</td>\n",
       "      <td>41.888701</td>\n",
       "      <td>-87.644504</td>\n",
       "      <td>member</td>\n",
       "      <td>4.0</td>\n",
       "      <td>3</td>\n",
       "      <td>0.724254</td>\n",
       "    </tr>\n",
       "  </tbody>\n",
       "</table>\n",
       "<p>4524428 rows × 14 columns</p>\n",
       "</div>"
      ],
      "text/plain": [
       "                  ride_id  rideable_type          started_at  \\\n",
       "0        70B6A9A437D4C30D   classic_bike 2020-12-27 12:44:00   \n",
       "39       15F369FDAED4E8E3  electric_bike 2020-12-18 13:53:00   \n",
       "50       0CFD61DFE00E6043  electric_bike 2020-12-28 17:10:00   \n",
       "87       244CB936487039B7    docked_bike 2020-12-10 13:36:00   \n",
       "88       B7AD5038F79637F9   classic_bike 2020-12-20 13:09:00   \n",
       "...                   ...            ...                 ...   \n",
       "5479074  03F06D61B2215C92  electric_bike 2021-11-02 13:50:00   \n",
       "5479079  B102144E454381D4   classic_bike 2021-11-03 17:28:00   \n",
       "5479082  29EB49CAC5219D45    docked_bike 2021-11-07 11:55:00   \n",
       "5479084  F4B91264B3D8FA9F  electric_bike 2021-11-22 18:03:00   \n",
       "5479085  531611D40E3A17ED  electric_bike 2021-11-23 12:41:00   \n",
       "\n",
       "                   ended_at           start_station_name  \\\n",
       "0       2020-12-27 12:55:00   Aberdeen St & Jackson Blvd   \n",
       "39      2020-12-18 14:01:00   Larrabee St & Armitage Ave   \n",
       "50      2020-12-28 17:12:00     Kingsbury St & Kinzie St   \n",
       "87      2020-12-10 14:37:00        Clark St & Leland Ave   \n",
       "88      2020-12-20 13:15:00      Dearborn St & Monroe St   \n",
       "...                     ...                          ...   \n",
       "5479074 2021-11-02 13:55:00       Green St & Randolph St   \n",
       "5479079 2021-11-03 17:45:00     Elston Ave & Cortland St   \n",
       "5479082 2021-11-07 12:05:00  Desplaines St & Randolph St   \n",
       "5479084 2021-11-22 18:06:00      Ogden Ave & Chicago Ave   \n",
       "5479085 2021-11-23 12:45:00      Ogden Ave & Chicago Ave   \n",
       "\n",
       "                   end_station_name  start_lat  start_lng    end_lat  \\\n",
       "0         Desplaines St & Kinzie St  41.877726 -87.654787  41.888716   \n",
       "39             Wells St & Walton St  41.918112 -87.643799  41.900129   \n",
       "50        Desplaines St & Kinzie St  41.889193 -87.638576  41.889099   \n",
       "87            Clark St & Leland Ave  41.967096 -87.667429  41.967096   \n",
       "88         Kingsbury St & Kinzie St  41.881320 -87.629521  41.889177   \n",
       "...                             ...        ...        ...        ...   \n",
       "5479074    Kingsbury St & Kinzie St  41.883510 -87.648568  41.889181   \n",
       "5479079        Wells St & Walton St  41.916433 -87.666746  41.899930   \n",
       "5479082  Aberdeen St & Jackson Blvd  41.884616 -87.644571  41.877726   \n",
       "5479084   Desplaines St & Kinzie St  41.896442 -87.653998  41.888691   \n",
       "5479085   Desplaines St & Kinzie St  41.896366 -87.654123  41.888701   \n",
       "\n",
       "           end_lng member_casual  ride_length  day_of_week  distance  \n",
       "0       -87.644448        member         11.0            1  0.926431  \n",
       "39      -87.634448        member          8.0            6  1.331365  \n",
       "50      -87.642479        member          2.0            2  0.200711  \n",
       "87      -87.667429        casual         61.0            5  0.000000  \n",
       "88      -87.638506        member          6.0            1  0.712459  \n",
       "...            ...           ...          ...          ...       ...  \n",
       "5479074 -87.638859        member          5.0            3  0.634306  \n",
       "5479079 -87.634430        casual         17.0            4  2.013921  \n",
       "5479082 -87.654787        casual         10.0            1  0.708598  \n",
       "5479084 -87.644465        member          3.0            2  0.725578  \n",
       "5479085 -87.644504        member          4.0            3  0.724254  \n",
       "\n",
       "[4524428 rows x 14 columns]"
      ]
     },
     "execution_count": 52,
     "metadata": {},
     "output_type": "execute_result"
    }
   ],
   "source": [
    "df.drop(['start_station_id', 'end_station_id'], axis = 1)"
   ]
  },
  {
   "cell_type": "code",
   "execution_count": 53,
   "id": "90d6c816-8b21-4f32-ad5e-475e9a563601",
   "metadata": {},
   "outputs": [],
   "source": [
    "df.to_csv('F:\\Coursera\\Projects\\Cyclistic_case_study\\Trip Data\\csv_files\\processed_cyclistic_data.csv', index = False)"
   ]
  },
  {
   "cell_type": "markdown",
   "id": "2a0b19cb-5dc8-477f-9d8a-6807e3a4264c",
   "metadata": {},
   "source": [
    "## Analysis scope\n",
    "- Organize and format the data (including useful aggregate tables)\n",
    "- Identify trends and relationships with the help of calculations, data aggregations, and relevant visuals\n",
    "- Provide a summary of the analysis\n",
    "\n",
    "## Aggregates & Formatting\n",
    "\n",
    "To get a sense of how members and casuals behave differently, we'll apply some aggregates around a variety of columns."
   ]
  },
  {
   "cell_type": "code",
   "execution_count": 54,
   "id": "837d9443-8595-4aff-925c-6c52d345089b",
   "metadata": {},
   "outputs": [
    {
     "data": {
      "text/plain": [
       "member    2497501\n",
       "casual    2026927\n",
       "Name: member_casual, dtype: int64"
      ]
     },
     "execution_count": 54,
     "metadata": {},
     "output_type": "execute_result"
    }
   ],
   "source": [
    "df.member_casual.value_counts()"
   ]
  },
  {
   "cell_type": "markdown",
   "id": "8c01b007-9f9d-4bd9-bbae-662af4124939",
   "metadata": {},
   "source": [
    "#### Average Ride Length (minutes)"
   ]
  },
  {
   "cell_type": "code",
   "execution_count": 55,
   "id": "e94d1f4a-1867-490e-a2ae-9976c4799ee1",
   "metadata": {},
   "outputs": [
    {
     "data": {
      "text/html": [
       "<div>\n",
       "<style scoped>\n",
       "    .dataframe tbody tr th:only-of-type {\n",
       "        vertical-align: middle;\n",
       "    }\n",
       "\n",
       "    .dataframe tbody tr th {\n",
       "        vertical-align: top;\n",
       "    }\n",
       "\n",
       "    .dataframe thead th {\n",
       "        text-align: right;\n",
       "    }\n",
       "</style>\n",
       "<table border=\"1\" class=\"dataframe\">\n",
       "  <thead>\n",
       "    <tr style=\"text-align: right;\">\n",
       "      <th></th>\n",
       "      <th>mean</th>\n",
       "      <th>max</th>\n",
       "      <th>min</th>\n",
       "    </tr>\n",
       "    <tr>\n",
       "      <th>member_casual</th>\n",
       "      <th></th>\n",
       "      <th></th>\n",
       "      <th></th>\n",
       "    </tr>\n",
       "  </thead>\n",
       "  <tbody>\n",
       "    <tr>\n",
       "      <th>casual</th>\n",
       "      <td>119.500320</td>\n",
       "      <td>436887.0</td>\n",
       "      <td>0.0</td>\n",
       "    </tr>\n",
       "    <tr>\n",
       "      <th>member</th>\n",
       "      <td>29.718932</td>\n",
       "      <td>44686.0</td>\n",
       "      <td>0.0</td>\n",
       "    </tr>\n",
       "  </tbody>\n",
       "</table>\n",
       "</div>"
      ],
      "text/plain": [
       "                     mean       max  min\n",
       "member_casual                           \n",
       "casual         119.500320  436887.0  0.0\n",
       "member          29.718932   44686.0  0.0"
      ]
     },
     "execution_count": 55,
     "metadata": {},
     "output_type": "execute_result"
    }
   ],
   "source": [
    "df.groupby('member_casual')['ride_length'].describe()[['mean', 'max', 'min']]"
   ]
  },
  {
   "cell_type": "markdown",
   "id": "f68ac8cc-9e59-40e7-be4d-52456d4e89d7",
   "metadata": {},
   "source": [
    "Here we can see that the maximum ride length is 436887 minutes for casual riders and 44686 minutes for members which isn't possible. So we will delete those rows which have a maximum ride length greater than 1440 mins(24 hours)"
   ]
  },
  {
   "cell_type": "code",
   "execution_count": 56,
   "id": "c8da0c8e-8a48-4bed-b49e-80af230cd5da",
   "metadata": {},
   "outputs": [],
   "source": [
    "df.drop(df[df.ride_length > 1440].index, inplace=True)"
   ]
  },
  {
   "cell_type": "code",
   "execution_count": 57,
   "id": "7fe10875-2406-4fbe-be92-7c8d396b87dc",
   "metadata": {},
   "outputs": [
    {
     "data": {
      "text/html": [
       "<div>\n",
       "<style scoped>\n",
       "    .dataframe tbody tr th:only-of-type {\n",
       "        vertical-align: middle;\n",
       "    }\n",
       "\n",
       "    .dataframe tbody tr th {\n",
       "        vertical-align: top;\n",
       "    }\n",
       "\n",
       "    .dataframe thead th {\n",
       "        text-align: right;\n",
       "    }\n",
       "</style>\n",
       "<table border=\"1\" class=\"dataframe\">\n",
       "  <thead>\n",
       "    <tr style=\"text-align: right;\">\n",
       "      <th></th>\n",
       "      <th></th>\n",
       "      <th>mean</th>\n",
       "      <th>max</th>\n",
       "      <th>min</th>\n",
       "    </tr>\n",
       "    <tr>\n",
       "      <th>member_casual</th>\n",
       "      <th>day_of_week</th>\n",
       "      <th></th>\n",
       "      <th></th>\n",
       "      <th></th>\n",
       "    </tr>\n",
       "  </thead>\n",
       "  <tbody>\n",
       "    <tr>\n",
       "      <th rowspan=\"7\" valign=\"top\">casual</th>\n",
       "      <th>1</th>\n",
       "      <td>32.251542</td>\n",
       "      <td>1435.0</td>\n",
       "      <td>0.0</td>\n",
       "    </tr>\n",
       "    <tr>\n",
       "      <th>2</th>\n",
       "      <td>28.533688</td>\n",
       "      <td>1439.0</td>\n",
       "      <td>0.0</td>\n",
       "    </tr>\n",
       "    <tr>\n",
       "      <th>3</th>\n",
       "      <td>25.495635</td>\n",
       "      <td>1436.0</td>\n",
       "      <td>0.0</td>\n",
       "    </tr>\n",
       "    <tr>\n",
       "      <th>4</th>\n",
       "      <td>24.331571</td>\n",
       "      <td>1438.0</td>\n",
       "      <td>0.0</td>\n",
       "    </tr>\n",
       "    <tr>\n",
       "      <th>5</th>\n",
       "      <td>24.037844</td>\n",
       "      <td>1436.0</td>\n",
       "      <td>0.0</td>\n",
       "    </tr>\n",
       "    <tr>\n",
       "      <th>6</th>\n",
       "      <td>25.989964</td>\n",
       "      <td>1433.0</td>\n",
       "      <td>0.0</td>\n",
       "    </tr>\n",
       "    <tr>\n",
       "      <th>7</th>\n",
       "      <td>30.343145</td>\n",
       "      <td>1440.0</td>\n",
       "      <td>0.0</td>\n",
       "    </tr>\n",
       "    <tr>\n",
       "      <th rowspan=\"7\" valign=\"top\">member</th>\n",
       "      <th>1</th>\n",
       "      <td>15.245324</td>\n",
       "      <td>1351.0</td>\n",
       "      <td>0.0</td>\n",
       "    </tr>\n",
       "    <tr>\n",
       "      <th>2</th>\n",
       "      <td>12.790419</td>\n",
       "      <td>1370.0</td>\n",
       "      <td>0.0</td>\n",
       "    </tr>\n",
       "    <tr>\n",
       "      <th>3</th>\n",
       "      <td>12.430305</td>\n",
       "      <td>1262.0</td>\n",
       "      <td>0.0</td>\n",
       "    </tr>\n",
       "    <tr>\n",
       "      <th>4</th>\n",
       "      <td>12.557002</td>\n",
       "      <td>1415.0</td>\n",
       "      <td>0.0</td>\n",
       "    </tr>\n",
       "    <tr>\n",
       "      <th>5</th>\n",
       "      <td>12.459965</td>\n",
       "      <td>1406.0</td>\n",
       "      <td>0.0</td>\n",
       "    </tr>\n",
       "    <tr>\n",
       "      <th>6</th>\n",
       "      <td>12.865318</td>\n",
       "      <td>1427.0</td>\n",
       "      <td>0.0</td>\n",
       "    </tr>\n",
       "    <tr>\n",
       "      <th>7</th>\n",
       "      <td>14.840514</td>\n",
       "      <td>1370.0</td>\n",
       "      <td>0.0</td>\n",
       "    </tr>\n",
       "  </tbody>\n",
       "</table>\n",
       "</div>"
      ],
      "text/plain": [
       "                                mean     max  min\n",
       "member_casual day_of_week                        \n",
       "casual        1            32.251542  1435.0  0.0\n",
       "              2            28.533688  1439.0  0.0\n",
       "              3            25.495635  1436.0  0.0\n",
       "              4            24.331571  1438.0  0.0\n",
       "              5            24.037844  1436.0  0.0\n",
       "              6            25.989964  1433.0  0.0\n",
       "              7            30.343145  1440.0  0.0\n",
       "member        1            15.245324  1351.0  0.0\n",
       "              2            12.790419  1370.0  0.0\n",
       "              3            12.430305  1262.0  0.0\n",
       "              4            12.557002  1415.0  0.0\n",
       "              5            12.459965  1406.0  0.0\n",
       "              6            12.865318  1427.0  0.0\n",
       "              7            14.840514  1370.0  0.0"
      ]
     },
     "execution_count": 57,
     "metadata": {},
     "output_type": "execute_result"
    }
   ],
   "source": [
    "df.groupby(['member_casual', 'day_of_week'])['ride_length'].describe()[['mean', 'max', 'min']]"
   ]
  },
  {
   "cell_type": "markdown",
   "id": "8097ad40-f54d-4b04-af0f-55efff42f523",
   "metadata": {},
   "source": [
    "#### Average Distance Length"
   ]
  },
  {
   "cell_type": "code",
   "execution_count": 58,
   "id": "c7945b99-cd33-4d6a-b06f-95d198da25b9",
   "metadata": {},
   "outputs": [
    {
     "data": {
      "text/plain": [
       "member_casual\n",
       "casual    1.356058\n",
       "member    1.300270\n",
       "Name: distance, dtype: float64"
      ]
     },
     "execution_count": 58,
     "metadata": {},
     "output_type": "execute_result"
    }
   ],
   "source": [
    "df.groupby('member_casual')['distance'].mean()"
   ]
  },
  {
   "cell_type": "code",
   "execution_count": 59,
   "id": "58e425c2-7fca-4ca2-bbaf-8d38567f57a4",
   "metadata": {},
   "outputs": [
    {
     "data": {
      "text/plain": [
       "member_casual\n",
       "casual    1.229899\n",
       "member    1.116109\n",
       "Name: distance, dtype: float64"
      ]
     },
     "execution_count": 59,
     "metadata": {},
     "output_type": "execute_result"
    }
   ],
   "source": [
    "df.groupby('member_casual')['distance'].std()"
   ]
  },
  {
   "cell_type": "markdown",
   "id": "18181539-3110-46bb-b44d-86a4b67e0f36",
   "metadata": {},
   "source": [
    "#### Busiest Days of the Week"
   ]
  },
  {
   "cell_type": "code",
   "execution_count": 60,
   "id": "79374308-568e-4074-b1cd-7e3380235882",
   "metadata": {},
   "outputs": [
    {
     "data": {
      "text/plain": [
       "member_casual  day_of_week\n",
       "casual         7              462997\n",
       "               1              401503\n",
       "               6              283474\n",
       "               2              226254\n",
       "               5              219347\n",
       "               4              214817\n",
       "               3              213629\n",
       "member         4              387873\n",
       "               3              386324\n",
       "               5              362047\n",
       "               6              355015\n",
       "               7              353298\n",
       "               2              341619\n",
       "               1              310340\n",
       "Name: day_of_week, dtype: int64"
      ]
     },
     "execution_count": 60,
     "metadata": {},
     "output_type": "execute_result"
    }
   ],
   "source": [
    "df.groupby('member_casual')['day_of_week'].value_counts()"
   ]
  },
  {
   "cell_type": "code",
   "execution_count": 61,
   "id": "8c42ab8f-1b92-44bb-b756-d98215ea9d0b",
   "metadata": {},
   "outputs": [
    {
     "data": {
      "text/plain": [
       "0    7\n",
       "dtype: int64"
      ]
     },
     "execution_count": 61,
     "metadata": {},
     "output_type": "execute_result"
    }
   ],
   "source": [
    "df.day_of_week.mode()"
   ]
  },
  {
   "cell_type": "markdown",
   "id": "602dc145-8706-4842-bf3a-3fda40e7af73",
   "metadata": {},
   "source": [
    "Clearly we can see that casual riders use bikes the most on Saturdays and members use bikes the most on Wednesdays and as a whole riders use bikes the most on Saturdays. As we thought, casuals are spending the majority of their bike trips on weekends while members spread out their use more evenly throughout the week. "
   ]
  },
  {
   "cell_type": "markdown",
   "id": "af21606c-c325-4381-a746-fea405fe27c6",
   "metadata": {},
   "source": [
    "## Identifying Trends and Relationships"
   ]
  },
  {
   "cell_type": "markdown",
   "id": "fe29aeed-ce46-4e40-9c22-fce8ab6e1d1f",
   "metadata": {},
   "source": [
    "### Both User Types:\n",
    "\n",
    "- Scarcely ride Cyclistic bikes during the colder months\n",
    "- Pick up and drop off their bikes at roughly the same distance\n",
    "\n",
    "### Casuals:\n",
    "\n",
    "- Spend the majority of their bike trips on weekends\n",
    "- Consistently have longer ride lengths year round\n",
    "- Favor docked bikes for lengthy bike trips\n",
    "- Have a negligible presence during the winter months\n",
    "\n",
    "### Members:\n",
    "\n",
    "- Spread out their use more evenly throughout the week.\n",
    "- Have steady average ride lengths year round\n",
    "- Are active at all times of the day, more so in the morning and afternoon \n",
    "- Are more consistent with their bike trips year round"
   ]
  },
  {
   "cell_type": "markdown",
   "id": "df958c67-41ee-40b8-86b6-7432c242fc30",
   "metadata": {},
   "source": [
    "### Summary: Inconclusive\n",
    "\n",
    "A. Casuals primarily use Cyclistic bikes for leisure\n",
    "\n",
    "We make that assumption based on the fact that casuals:\n",
    "\n",
    "- Bike twice as much on Saturdays and Sundays compared to any other day of the week\n",
    "- Spend significantly longer on average on every bike trip, suggesting that they spend time in-between docking stations doing leisurely activities \n",
    "- Do not use Cyclistic bikes often enough to warrant paying for an annual membership\n",
    "\n",
    "B. Members get more our of Cyclistic bikes by using them for leisure and commuting on a consistent basis\n",
    "\n",
    "We've drawn that conclusion based on the fact that members:\n",
    "\n",
    "- Rely on bikes consistently each week and year round, with no notable preference on a single day of the week\n",
    "- Use Cyclistic bikes often during the rush hours on a typical work day\n",
    "- Are motivated by the economics of an annual membership pass "
   ]
  },
  {
   "cell_type": "code",
   "execution_count": null,
   "id": "678c083f-9785-4748-a216-f4c74e5c8dba",
   "metadata": {},
   "outputs": [],
   "source": []
  }
 ],
 "metadata": {
  "kernelspec": {
   "display_name": "Python 3 (ipykernel)",
   "language": "python",
   "name": "python3"
  },
  "language_info": {
   "codemirror_mode": {
    "name": "ipython",
    "version": 3
   },
   "file_extension": ".py",
   "mimetype": "text/x-python",
   "name": "python",
   "nbconvert_exporter": "python",
   "pygments_lexer": "ipython3",
   "version": "3.8.8"
  }
 },
 "nbformat": 4,
 "nbformat_minor": 5
}
